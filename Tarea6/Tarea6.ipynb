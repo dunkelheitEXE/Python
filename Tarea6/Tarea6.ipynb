{
 "cells": [
  {
   "cell_type": "markdown",
   "metadata": {},
   "source": [
    "# TAREA 6\n",
    "\n",
    "**Importación de librerias:**"
   ]
  },
  {
   "cell_type": "code",
   "execution_count": 2,
   "metadata": {},
   "outputs": [],
   "source": [
    "import pandas as pd\n",
    "import statsmodels.api as sm\n",
    "from itertools import combinations\n",
    "from statsmodels.stats.diagnostic import het_breuschpagan"
   ]
  },
  {
   "cell_type": "markdown",
   "metadata": {},
   "source": [
    "**Cargar Data Set de Kaggle**"
   ]
  },
  {
   "cell_type": "code",
   "execution_count": 3,
   "metadata": {},
   "outputs": [],
   "source": [
    "df = pd.read_csv('pixar_films new.csv')\n",
    "independent_variables = [\"box_office_us_canada\", \"box_office_other\", \"box_office_worldwide\", \"rotten_tomatoes_score\", \"rotten_tomatoes_counts\", \"metacritic_score\", \"metacritic_counts\", \"imdb_score\", \"imdb_counts\"]\n",
    "dependent_variable = \"budget\""
   ]
  },
  {
   "cell_type": "markdown",
   "metadata": {},
   "source": [
    "**Ecuación de Regresión Líneal**"
   ]
  },
  {
   "cell_type": "code",
   "execution_count": 4,
   "metadata": {},
   "outputs": [
    {
     "name": "stdout",
     "output_type": "stream",
     "text": [
      "                            OLS Regression Results                            \n",
      "==============================================================================\n",
      "Dep. Variable:                 budget   R-squared:                       0.568\n",
      "Model:                            OLS   Adj. R-squared:                  0.386\n",
      "Method:                 Least Squares   F-statistic:                     3.125\n",
      "Date:                Thu, 13 Mar 2025   Prob (F-statistic):             0.0198\n",
      "Time:                        10:01:41   Log-Likelihood:                -525.90\n",
      "No. Observations:                  28   AIC:                             1070.\n",
      "Df Residuals:                      19   BIC:                             1082.\n",
      "Df Model:                           8                                         \n",
      "Covariance Type:            nonrobust                                         \n",
      "==========================================================================================\n",
      "                             coef    std err          t      P>|t|      [0.025      0.975]\n",
      "------------------------------------------------------------------------------------------\n",
      "const                    5.36e+08   2.14e+08      2.503      0.022    8.78e+07    9.84e+08\n",
      "box_office_us_canada    -139.1492     55.848     -2.492      0.022    -256.040     -22.259\n",
      "box_office_other        -138.8939     55.729     -2.492      0.022    -255.536     -22.252\n",
      "box_office_worldwide     139.0535     55.783      2.493      0.022      22.299     255.808\n",
      "rotten_tomatoes_score  -1.127e+04   1.56e+06     -0.007      0.994   -3.29e+06    3.26e+06\n",
      "rotten_tomatoes_counts  4.591e+05   2.26e+05      2.033      0.056   -1.35e+04    9.32e+05\n",
      "metacritic_score       -3.447e+05   1.64e+06     -0.210      0.836   -3.78e+06    3.09e+06\n",
      "metacritic_counts       -2.02e+06   2.14e+06     -0.944      0.357    -6.5e+06    2.46e+06\n",
      "imdb_score             -5.882e+07   4.27e+07     -1.376      0.185   -1.48e+08    3.06e+07\n",
      "imdb_counts               36.4783     58.996      0.618      0.544     -87.001     159.958\n",
      "==============================================================================\n",
      "Omnibus:                       20.500   Durbin-Watson:                   2.303\n",
      "Prob(Omnibus):                  0.000   Jarque-Bera (JB):               31.141\n",
      "Skew:                          -1.620   Prob(JB):                     1.73e-07\n",
      "Kurtosis:                       7.025   Cond. No.                     1.83e+16\n",
      "==============================================================================\n",
      "\n",
      "Notes:\n",
      "[1] Standard Errors assume that the covariance matrix of the errors is correctly specified.\n",
      "[2] The smallest eigenvalue is 6.49e-14. This might indicate that there are\n",
      "strong multicollinearity problems or that the design matrix is singular.\n"
     ]
    }
   ],
   "source": [
    "X = df[independent_variables]\n",
    "X = sm.add_constant(X)\n",
    "y = df[dependent_variable]\n",
    "\n",
    "model = sm.OLS(y, X).fit()\n",
    "print(model.summary())"
   ]
  },
  {
   "cell_type": "markdown",
   "metadata": {},
   "source": [
    "# Parte IV\n",
    "\n",
    "Interpretar el valor r-cuadrada para éste caso."
   ]
  },
  {
   "cell_type": "code",
   "execution_count": 5,
   "metadata": {},
   "outputs": [
    {
     "name": "stdout",
     "output_type": "stream",
     "text": [
      "\n",
      "Parte IV.1:\n",
      "R-cuadrada: 0.5681692116558994\n",
      "\n",
      "Parte IV.2:\n",
      "Varianza estimada (MSE): 1777567314969845.2\n",
      "\n",
      "Parte IV.3:\n",
      "F-statistic: 3.124839437357352, p-valor: 0.019753068913471172\n",
      "\n",
      "Parte IV.4:\n",
      "Log-Likelihood: -525.8978715602818\n"
     ]
    }
   ],
   "source": [
    "print(\"\\nParte IV.1:\")\n",
    "print(f\"R-cuadrada: {model.rsquared}\")\n",
    "\n",
    "print(\"\\nParte IV.2:\")\n",
    "print(f\"Varianza estimada (MSE): {model.mse_resid}\")\n",
    "\n",
    "print(\"\\nParte IV.3:\")\n",
    "print(f\"F-statistic: {model.fvalue}, p-valor: {model.f_pvalue}\")\n",
    "\n",
    "print(\"\\nParte IV.4:\")\n",
    "print(f\"Log-Likelihood: {model.llf}\")"
   ]
  },
  {
   "cell_type": "code",
   "execution_count": 6,
   "metadata": {},
   "outputs": [
    {
     "name": "stdout",
     "output_type": "stream",
     "text": [
      "\n",
      "Parte V.1:\n",
      "Errores estándar:\n",
      " const                     2.141291e+08\n",
      "box_office_us_canada      5.584762e+01\n",
      "box_office_other          5.572877e+01\n",
      "box_office_worldwide      5.578262e+01\n",
      "rotten_tomatoes_score     1.564154e+06\n",
      "rotten_tomatoes_counts    2.258263e+05\n",
      "metacritic_score          1.640260e+06\n",
      "metacritic_counts         2.138816e+06\n",
      "imdb_score                4.274754e+07\n",
      "imdb_counts               5.899568e+01\n",
      "dtype: float64\n",
      "\n",
      "Parte V.2:\n",
      "Variables significativas: ['const', 'box_office_us_canada', 'box_office_other', 'box_office_worldwide']\n",
      "\n",
      "Parte V.3:\n",
      "Mejores variables por valor t: ['box_office_worldwide', 'box_office_other']\n",
      "\n",
      "Parte V.4:\n",
      "Intervalo 95% para box_office_worldwide: (22.299083331800816, 255.80781933938277)\n"
     ]
    }
   ],
   "source": [
    "print(\"\\nParte V.1:\")\n",
    "print(\"Errores estándar:\\n\", model.bse)\n",
    "\n",
    "print(\"\\nParte V.2:\")\n",
    "significant_vars = model.pvalues[model.pvalues < 0.05].index.tolist()\n",
    "print(\"Variables significativas:\", significant_vars)\n",
    "\n",
    "print(\"\\nParte V.3:\")\n",
    "t_values = model.tvalues.drop('const')\n",
    "top_two = t_values.abs().nlargest(2).index.tolist()\n",
    "print(\"Mejores variables por valor t:\", top_two)\n",
    "\n",
    "print(\"\\nParte V.4:\")\n",
    "conf_int = model.conf_int().loc[top_two[0]]\n",
    "print(f\"Intervalo 95% para {top_two[0]}: ({conf_int[0]}, {conf_int[1]})\")"
   ]
  },
  {
   "cell_type": "markdown",
   "metadata": {},
   "source": [
    "# Codigo Parte VII"
   ]
  },
  {
   "cell_type": "code",
   "execution_count": 14,
   "metadata": {},
   "outputs": [
    {
     "name": "stdout",
     "output_type": "stream",
     "text": [
      "Mejor modelo: ('budget', 'imdb_score') | AIC: 1179.070619614245\n"
     ]
    }
   ],
   "source": [
    "import itertools\n",
    "import statsmodels.api as sm\n",
    "\n",
    "# Supongamos que tu variable dependiente es 'box_office_worldwide'\n",
    "Y = df['box_office_worldwide']\n",
    "variables = ['budget', 'rotten_tomatoes_score', 'metacritic_score', 'imdb_score', 'cinema_score']  # Ajusta según tus variables válidas\n",
    "\n",
    "# Generar todas las combinaciones de 2 variables\n",
    "combinaciones = list(itertools.combinations(variables, 2))\n",
    "\n",
    "# Almacenar resultados\n",
    "resultados = []\n",
    "\n",
    "for combo in combinaciones:\n",
    "    X = df[list(combo)]\n",
    "    X = pd.get_dummies(X, drop_first=True)  # Convertir variables categóricas en variables dummy\n",
    "    X = sm.add_constant(X)  # Añadir intercepto\n",
    "    model = sm.OLS(Y, X.astype(float)).fit()  # Convertir a float\n",
    "    resultados.append({'Variables': combo, 'AIC': model.aic})\n",
    "\n",
    "# Encontrar el modelo con menor AIC\n",
    "mejor_modelo = min(resultados, key=lambda x: x['AIC'])\n",
    "print(f\"Mejor modelo: {mejor_modelo['Variables']} | AIC: {mejor_modelo['AIC']}\")"
   ]
  },
  {
   "cell_type": "markdown",
   "metadata": {},
   "source": [
    "# Parte VIII"
   ]
  },
  {
   "cell_type": "code",
   "execution_count": 17,
   "metadata": {},
   "outputs": [
    {
     "name": "stdout",
     "output_type": "stream",
     "text": [
      "\n",
      "Parte VIII:\n",
      "Mejor combinación por R²: ('rotten_tomatoes_score', 'rotten_tomatoes_counts'), R²: 0.40253327954687557\n"
     ]
    }
   ],
   "source": [
    "best_r2 = -float('inf')\n",
    "best_combo_r2 = None\n",
    "\n",
    "for combo in combinations(independent_variables, 2):\n",
    "    X_combo = sm.add_constant(df[list(combo)])\n",
    "    model_combo = sm.OLS(y, X_combo).fit()\n",
    "    if model_combo.rsquared > best_r2:\n",
    "        best_r2 = model_combo.rsquared\n",
    "        best_combo_r2 = combo\n",
    "\n",
    "print(\"\\nParte VIII:\")\n",
    "print(f\"Mejor combinación por R²: {best_combo_r2}, R²: {best_r2}\")"
   ]
  },
  {
   "cell_type": "markdown",
   "metadata": {},
   "source": [
    "# Parte IX"
   ]
  },
  {
   "cell_type": "code",
   "execution_count": 18,
   "metadata": {},
   "outputs": [
    {
     "name": "stdout",
     "output_type": "stream",
     "text": [
      "\n",
      "Parte IX:\n",
      "Prueba Breusch-Pagan p-valor: 0.700749145236779\n"
     ]
    }
   ],
   "source": [
    "print(\"\\nParte IX:\")\n",
    "residuals = model.resid\n",
    "_, p_value, _, _ = het_breuschpagan(residuals, X)\n",
    "print(f\"Prueba Breusch-Pagan p-valor: {p_value}\")"
   ]
  }
 ],
 "metadata": {
  "kernelspec": {
   "display_name": "Python 3",
   "language": "python",
   "name": "python3"
  },
  "language_info": {
   "codemirror_mode": {
    "name": "ipython",
    "version": 3
   },
   "file_extension": ".py",
   "mimetype": "text/x-python",
   "name": "python",
   "nbconvert_exporter": "python",
   "pygments_lexer": "ipython3",
   "version": "3.12.6"
  }
 },
 "nbformat": 4,
 "nbformat_minor": 2
}
