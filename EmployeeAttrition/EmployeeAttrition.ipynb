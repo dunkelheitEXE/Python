{
 "cells": [
  {
   "cell_type": "markdown",
   "metadata": {},
   "source": [
    "# Tarea 2. Parte II\n",
    "\n",
    "**Importamos librerias**"
   ]
  },
  {
   "cell_type": "code",
   "execution_count": 1,
   "metadata": {},
   "outputs": [],
   "source": [
    "import pandas as pd\n",
    "import plotly as plt\n",
    "import numpy as np\n"
   ]
  },
  {
   "cell_type": "markdown",
   "metadata": {},
   "source": [
    "**II.1. Separar el dataset en una parte que tenga variables independientes y otra la variable\n",
    "dependiente.**"
   ]
  },
  {
   "cell_type": "code",
   "execution_count": 2,
   "metadata": {},
   "outputs": [],
   "source": [
    "df = pd.read_csv(\"src/employee_attrition_dataset.csv\")\n",
    "\n",
    "independient_varibles = [\"Age\", \"Gender\", \"Marital_Status\"]\n",
    "dependient_variables = [\"Department\", \n",
    "    \"Job_Role\", \"Job_Level\", \"Monthly_Income\", \"Hourly_Rate\", \"Years_at_Company\", \n",
    "    \"Years_in_Current_Role\", \"Years_Since_Last_Promotion\", \"Work_Life_Balance\", \n",
    "    \"Job_Satisfaction\", \"Performance_Rating\", \"Training_Hours_Last_Year\", \"Overtime\", \n",
    "    \"Project_Count\", \"Average_Hours_Worked_Per_Week\", \"Absenteeism\", \n",
    "    \"Work_Environment_Satisfaction\", \"Relationship_with_Manager\", \"Job_Involvement\", \n",
    "    \"Distance_From_Home\", \"Number_of_Companies_Worked\", \"Attrition\"\n",
    "]\n",
    "\n",
    "x = df[independient_varibles]\n",
    "y = df[dependient_variables]\n"
   ]
  },
  {
   "cell_type": "markdown",
   "metadata": {},
   "source": [
    "**II.2. Cambiar cada dato faltante de cada variable numérica por el promedio de los demás datos.**"
   ]
  },
  {
   "cell_type": "code",
   "execution_count": 3,
   "metadata": {},
   "outputs": [
    {
     "name": "stderr",
     "output_type": "stream",
     "text": [
      "C:\\Users\\alang\\AppData\\Local\\Temp\\ipykernel_22880\\3101867478.py:4: FutureWarning: A value is trying to be set on a copy of a DataFrame or Series through chained assignment using an inplace method.\n",
      "The behavior will change in pandas 3.0. This inplace method will never work because the intermediate object on which we are setting values always behaves as a copy.\n",
      "\n",
      "For example, when doing 'df[col].method(value, inplace=True)', try using 'df.method({col: value}, inplace=True)' or df[col] = df[col].method(value) instead, to perform the operation inplace on the original object.\n",
      "\n",
      "\n",
      "  df[e].fillna(promedio, inplace=True)\n"
     ]
    }
   ],
   "source": [
    "cols_num = df.select_dtypes(include=\"number\").columns\n",
    "for e in cols_num:\n",
    "    promedio = df[e].mean()\n",
    "    df[e].fillna(promedio, inplace=True)\n"
   ]
  },
  {
   "cell_type": "markdown",
   "metadata": {},
   "source": [
    "# Parte III\n",
    "\n",
    "**III.1. Cambiar a forma numérica las variables categóricas independientes.**"
   ]
  },
  {
   "cell_type": "code",
   "execution_count": 4,
   "metadata": {},
   "outputs": [
    {
     "name": "stdout",
     "output_type": "stream",
     "text": [
      "     Employee_ID  Age  Gender Marital_Status Department   Job_Role  Job_Level  \\\n",
      "0              1   58  Female        Married         IT    Manager          1   \n",
      "1              2   48  Female        Married      Sales  Assistant          5   \n",
      "2              3   34    Male        Married  Marketing  Assistant          1   \n",
      "3              4   27  Female       Divorced  Marketing    Manager          1   \n",
      "4              5   40    Male       Divorced  Marketing  Executive          1   \n",
      "..           ...  ...     ...            ...        ...        ...        ...   \n",
      "995          996   27  Female       Divorced         HR    Analyst          2   \n",
      "996          997   47    Male         Single         IT    Manager          4   \n",
      "997          998   50  Female       Divorced         IT  Executive          1   \n",
      "998          999   28  Female        Married         HR  Executive          4   \n",
      "999         1000   48  Female       Divorced         IT    Analyst          2   \n",
      "\n",
      "     Monthly_Income  Hourly_Rate  Years_at_Company  ...  Overtime  \\\n",
      "0             15488           28                15  ...        No   \n",
      "1             13079           28                 6  ...       Yes   \n",
      "2             13744           24                24  ...       Yes   \n",
      "3              6809           26                10  ...        No   \n",
      "4             10206           52                29  ...        No   \n",
      "..              ...          ...               ...  ...       ...   \n",
      "995            4172           76                24  ...        No   \n",
      "996           11007           71                19  ...       Yes   \n",
      "997            4641           43                25  ...       Yes   \n",
      "998           19855           92                13  ...        No   \n",
      "999           11738           39                 1  ...       Yes   \n",
      "\n",
      "     Project_Count  Average_Hours_Worked_Per_Week  Absenteeism  \\\n",
      "0                6                             54           17   \n",
      "1                2                             45            1   \n",
      "2                6                             34            2   \n",
      "3                9                             48           18   \n",
      "4                3                             33            0   \n",
      "..             ...                            ...          ...   \n",
      "995              4                             46           10   \n",
      "996              7                             36           16   \n",
      "997              1                             46            9   \n",
      "998              4                             52           17   \n",
      "999              2                             59            5   \n",
      "\n",
      "     Work_Environment_Satisfaction  Relationship_with_Manager Job_Involvement  \\\n",
      "0                                4                          4               4   \n",
      "1                                4                          1               2   \n",
      "2                                3                          4               4   \n",
      "3                                2                          3               1   \n",
      "4                                4                          1               3   \n",
      "..                             ...                        ...             ...   \n",
      "995                              3                          1               4   \n",
      "996                              3                          2               4   \n",
      "997                              2                          3               3   \n",
      "998                              4                          1               4   \n",
      "999                              1                          4               3   \n",
      "\n",
      "     Distance_From_Home  Number_of_Companies_Worked  Attrition  \n",
      "0                    20                           3         No  \n",
      "1                    25                           2         No  \n",
      "2                    45                           3         No  \n",
      "3                    35                           3         No  \n",
      "4                    44                           3         No  \n",
      "..                  ...                         ...        ...  \n",
      "995                  24                           4         No  \n",
      "996                  39                           3        Yes  \n",
      "997                  33                           2         No  \n",
      "998                  41                           4         No  \n",
      "999                  43                           2         No  \n",
      "\n",
      "[1000 rows x 26 columns]\n"
     ]
    }
   ],
   "source": [
    "print(df)"
   ]
  },
  {
   "cell_type": "code",
   "execution_count": 5,
   "metadata": {},
   "outputs": [
    {
     "name": "stdout",
     "output_type": "stream",
     "text": [
      "     Employee_ID  Age  Gender  Marital_Status Department   Job_Role  \\\n",
      "0              1   58       0               1         IT    Manager   \n",
      "1              2   48       0               1      Sales  Assistant   \n",
      "2              3   34       1               1  Marketing  Assistant   \n",
      "3              4   27       0               0  Marketing    Manager   \n",
      "4              5   40       1               0  Marketing  Executive   \n",
      "..           ...  ...     ...             ...        ...        ...   \n",
      "995          996   27       0               0         HR    Analyst   \n",
      "996          997   47       1               2         IT    Manager   \n",
      "997          998   50       0               0         IT  Executive   \n",
      "998          999   28       0               1         HR  Executive   \n",
      "999         1000   48       0               0         IT    Analyst   \n",
      "\n",
      "     Job_Level  Monthly_Income  Hourly_Rate  Years_at_Company  ...  Overtime  \\\n",
      "0            1           15488           28                15  ...        No   \n",
      "1            5           13079           28                 6  ...       Yes   \n",
      "2            1           13744           24                24  ...       Yes   \n",
      "3            1            6809           26                10  ...        No   \n",
      "4            1           10206           52                29  ...        No   \n",
      "..         ...             ...          ...               ...  ...       ...   \n",
      "995          2            4172           76                24  ...        No   \n",
      "996          4           11007           71                19  ...       Yes   \n",
      "997          1            4641           43                25  ...       Yes   \n",
      "998          4           19855           92                13  ...        No   \n",
      "999          2           11738           39                 1  ...       Yes   \n",
      "\n",
      "     Project_Count  Average_Hours_Worked_Per_Week  Absenteeism  \\\n",
      "0                6                             54           17   \n",
      "1                2                             45            1   \n",
      "2                6                             34            2   \n",
      "3                9                             48           18   \n",
      "4                3                             33            0   \n",
      "..             ...                            ...          ...   \n",
      "995              4                             46           10   \n",
      "996              7                             36           16   \n",
      "997              1                             46            9   \n",
      "998              4                             52           17   \n",
      "999              2                             59            5   \n",
      "\n",
      "     Work_Environment_Satisfaction  Relationship_with_Manager Job_Involvement  \\\n",
      "0                                4                          4               4   \n",
      "1                                4                          1               2   \n",
      "2                                3                          4               4   \n",
      "3                                2                          3               1   \n",
      "4                                4                          1               3   \n",
      "..                             ...                        ...             ...   \n",
      "995                              3                          1               4   \n",
      "996                              3                          2               4   \n",
      "997                              2                          3               3   \n",
      "998                              4                          1               4   \n",
      "999                              1                          4               3   \n",
      "\n",
      "     Distance_From_Home  Number_of_Companies_Worked  Attrition  \n",
      "0                    20                           3         No  \n",
      "1                    25                           2         No  \n",
      "2                    45                           3         No  \n",
      "3                    35                           3         No  \n",
      "4                    44                           3         No  \n",
      "..                  ...                         ...        ...  \n",
      "995                  24                           4         No  \n",
      "996                  39                           3        Yes  \n",
      "997                  33                           2         No  \n",
      "998                  41                           4         No  \n",
      "999                  43                           2         No  \n",
      "\n",
      "[1000 rows x 26 columns]\n"
     ]
    }
   ],
   "source": [
    "# Genero (variable categorica independiente)\n",
    "df[\"Gender\"] = df[\"Gender\"].astype(\"category\")\n",
    "df[\"Gender\"] = df[\"Gender\"].cat.codes\n",
    "\n",
    "# Marital_Status\n",
    "df[\"Marital_Status\"] = df[\"Marital_Status\"].astype(\"category\")\n",
    "df[\"Marital_Status\"] = df[\"Marital_Status\"].cat.codes\n",
    "\n",
    "print(df)"
   ]
  },
  {
   "cell_type": "code",
   "execution_count": 6,
   "metadata": {},
   "outputs": [
    {
     "name": "stdout",
     "output_type": "stream",
     "text": [
      "1000\n"
     ]
    }
   ],
   "source": [
    "print(len(df.index))"
   ]
  },
  {
   "cell_type": "markdown",
   "metadata": {},
   "source": [
    "**III.3. Aplicar por lo menos 5 técnicas de limpieza de datos, o las que sean necesarias para hacer los\n",
    "siguientes puntos**\n",
    "\n",
    ">La limpieza de datos es importante para evitar errores a futuro de entrenamiento de tecnologías o analisis de datos\n",
    "1. Para comenzar eliminaremos valores duplicados con la funcion de pandas `drop_duplicates()`"
   ]
  },
  {
   "cell_type": "code",
   "execution_count": 7,
   "metadata": {},
   "outputs": [
    {
     "name": "stdout",
     "output_type": "stream",
     "text": [
      "1000\n"
     ]
    }
   ],
   "source": [
    "df = df.drop_duplicates()\n",
    "print(len(df.index))"
   ]
  },
  {
   "cell_type": "markdown",
   "metadata": {},
   "source": [
    "2. Tambien eliminaremos valores nulos"
   ]
  },
  {
   "cell_type": "code",
   "execution_count": 8,
   "metadata": {},
   "outputs": [
    {
     "name": "stdout",
     "output_type": "stream",
     "text": [
      "1000\n"
     ]
    }
   ],
   "source": [
    "df = df.dropna() # Eliminar las filas con valores nulos\n",
    "print(len(df.index))"
   ]
  },
  {
   "cell_type": "markdown",
   "metadata": {},
   "source": [
    "# Parte IV\n",
    "\n",
    "**IV.1. Determinar si las variables numéricas tienen valores atípicos.**\n",
    "\n",
    "Primeramente debemos definir en rango intercuartilico. Para ello tomamos el Q1 y el Q3 como limites para los valores atípicos"
   ]
  },
  {
   "cell_type": "code",
   "execution_count": 10,
   "metadata": {},
   "outputs": [
    {
     "name": "stdout",
     "output_type": "stream",
     "text": [
      "     Employee_ID  Age  Gender  Marital_Status Department   Job_Role  \\\n",
      "0              1   58       0               1         IT    Manager   \n",
      "1              2   48       0               1      Sales  Assistant   \n",
      "2              3   34       1               1  Marketing  Assistant   \n",
      "3              4   27       0               0  Marketing    Manager   \n",
      "4              5   40       1               0  Marketing  Executive   \n",
      "..           ...  ...     ...             ...        ...        ...   \n",
      "995          996   27       0               0         HR    Analyst   \n",
      "996          997   47       1               2         IT    Manager   \n",
      "997          998   50       0               0         IT  Executive   \n",
      "998          999   28       0               1         HR  Executive   \n",
      "999         1000   48       0               0         IT    Analyst   \n",
      "\n",
      "     Job_Level  Monthly_Income  Hourly_Rate  Years_at_Company  ...  Overtime  \\\n",
      "0            1           15488           28                15  ...        No   \n",
      "1            5           13079           28                 6  ...       Yes   \n",
      "2            1           13744           24                24  ...       Yes   \n",
      "3            1            6809           26                10  ...        No   \n",
      "4            1           10206           52                29  ...        No   \n",
      "..         ...             ...          ...               ...  ...       ...   \n",
      "995          2            4172           76                24  ...        No   \n",
      "996          4           11007           71                19  ...       Yes   \n",
      "997          1            4641           43                25  ...       Yes   \n",
      "998          4           19855           92                13  ...        No   \n",
      "999          2           11738           39                 1  ...       Yes   \n",
      "\n",
      "     Project_Count  Average_Hours_Worked_Per_Week  Absenteeism  \\\n",
      "0                6                             54           17   \n",
      "1                2                             45            1   \n",
      "2                6                             34            2   \n",
      "3                9                             48           18   \n",
      "4                3                             33            0   \n",
      "..             ...                            ...          ...   \n",
      "995              4                             46           10   \n",
      "996              7                             36           16   \n",
      "997              1                             46            9   \n",
      "998              4                             52           17   \n",
      "999              2                             59            5   \n",
      "\n",
      "     Work_Environment_Satisfaction  Relationship_with_Manager Job_Involvement  \\\n",
      "0                                4                          4               4   \n",
      "1                                4                          1               2   \n",
      "2                                3                          4               4   \n",
      "3                                2                          3               1   \n",
      "4                                4                          1               3   \n",
      "..                             ...                        ...             ...   \n",
      "995                              3                          1               4   \n",
      "996                              3                          2               4   \n",
      "997                              2                          3               3   \n",
      "998                              4                          1               4   \n",
      "999                              1                          4               3   \n",
      "\n",
      "     Distance_From_Home  Number_of_Companies_Worked  Attrition  \n",
      "0                    20                           3         No  \n",
      "1                    25                           2         No  \n",
      "2                    45                           3         No  \n",
      "3                    35                           3         No  \n",
      "4                    44                           3         No  \n",
      "..                  ...                         ...        ...  \n",
      "995                  24                           4         No  \n",
      "996                  39                           3        Yes  \n",
      "997                  33                           2         No  \n",
      "998                  41                           4         No  \n",
      "999                  43                           2         No  \n",
      "\n",
      "[1000 rows x 26 columns]\n"
     ]
    }
   ],
   "source": [
    "Q1 = df[\"Age\"].quantile(0.25)\n",
    "Q3 = df[\"Age\"].quantile(0.75)\n",
    "\n",
    "IQR = Q3 - Q1\n",
    "limite_inferior = Q1 - 1.5 * IQR\n",
    "limite_superior = Q3 + 1.5 * IQR\n",
    "\n",
    "df = df[(df[\"Age\"] >= limite_inferior) & (df[\"Age\"] <= limite_superior)]\n",
    "print(df)"
   ]
  },
  {
   "cell_type": "code",
   "execution_count": 11,
   "metadata": {},
   "outputs": [
    {
     "name": "stdout",
     "output_type": "stream",
     "text": [
      "     Employee_ID  Age  Gender  Marital_Status Department   Job_Role  \\\n",
      "0              1   58       0               1         IT    Manager   \n",
      "1              2   48       0               1      Sales  Assistant   \n",
      "2              3   34       1               1  Marketing  Assistant   \n",
      "3              4   27       0               0  Marketing    Manager   \n",
      "4              5   40       1               0  Marketing  Executive   \n",
      "..           ...  ...     ...             ...        ...        ...   \n",
      "995          996   27       0               0         HR    Analyst   \n",
      "996          997   47       1               2         IT    Manager   \n",
      "997          998   50       0               0         IT  Executive   \n",
      "998          999   28       0               1         HR  Executive   \n",
      "999         1000   48       0               0         IT    Analyst   \n",
      "\n",
      "     Job_Level  Monthly_Income  Hourly_Rate  Years_at_Company  ...  Overtime  \\\n",
      "0            1           15488           28                15  ...        No   \n",
      "1            5           13079           28                 6  ...       Yes   \n",
      "2            1           13744           24                24  ...       Yes   \n",
      "3            1            6809           26                10  ...        No   \n",
      "4            1           10206           52                29  ...        No   \n",
      "..         ...             ...          ...               ...  ...       ...   \n",
      "995          2            4172           76                24  ...        No   \n",
      "996          4           11007           71                19  ...       Yes   \n",
      "997          1            4641           43                25  ...       Yes   \n",
      "998          4           19855           92                13  ...        No   \n",
      "999          2           11738           39                 1  ...       Yes   \n",
      "\n",
      "     Project_Count  Average_Hours_Worked_Per_Week  Absenteeism  \\\n",
      "0                6                             54           17   \n",
      "1                2                             45            1   \n",
      "2                6                             34            2   \n",
      "3                9                             48           18   \n",
      "4                3                             33            0   \n",
      "..             ...                            ...          ...   \n",
      "995              4                             46           10   \n",
      "996              7                             36           16   \n",
      "997              1                             46            9   \n",
      "998              4                             52           17   \n",
      "999              2                             59            5   \n",
      "\n",
      "     Work_Environment_Satisfaction  Relationship_with_Manager Job_Involvement  \\\n",
      "0                                4                          4               4   \n",
      "1                                4                          1               2   \n",
      "2                                3                          4               4   \n",
      "3                                2                          3               1   \n",
      "4                                4                          1               3   \n",
      "..                             ...                        ...             ...   \n",
      "995                              3                          1               4   \n",
      "996                              3                          2               4   \n",
      "997                              2                          3               3   \n",
      "998                              4                          1               4   \n",
      "999                              1                          4               3   \n",
      "\n",
      "     Distance_From_Home  Number_of_Companies_Worked  Attrition  \n",
      "0                    20                           3         No  \n",
      "1                    25                           2         No  \n",
      "2                    45                           3         No  \n",
      "3                    35                           3         No  \n",
      "4                    44                           3         No  \n",
      "..                  ...                         ...        ...  \n",
      "995                  24                           4         No  \n",
      "996                  39                           3        Yes  \n",
      "997                  33                           2         No  \n",
      "998                  41                           4         No  \n",
      "999                  43                           2         No  \n",
      "\n",
      "[1000 rows x 26 columns]\n"
     ]
    }
   ],
   "source": [
    "Q1 = df[\"Hourly_Rate\"].quantile(0.25)\n",
    "Q3 = df[\"Hourly_Rate\"].quantile(0.75)\n",
    "\n",
    "IQR = Q3 - Q1\n",
    "limite_inferior = Q1 - 1.5 * IQR\n",
    "limite_superior = Q3 + 1.5 * IQR\n",
    "\n",
    "df = df[(df[\"Hourly_Rate\"] >= limite_inferior) & (df[\"Hourly_Rate\"] <= limite_superior)]\n",
    "print(df)"
   ]
  },
  {
   "cell_type": "code",
   "execution_count": null,
   "metadata": {},
   "outputs": [],
   "source": []
  }
 ],
 "metadata": {
  "kernelspec": {
   "display_name": "venv",
   "language": "python",
   "name": "python3"
  },
  "language_info": {
   "codemirror_mode": {
    "name": "ipython",
    "version": 3
   },
   "file_extension": ".py",
   "mimetype": "text/x-python",
   "name": "python",
   "nbconvert_exporter": "python",
   "pygments_lexer": "ipython3",
   "version": "3.13.1"
  }
 },
 "nbformat": 4,
 "nbformat_minor": 2
}
